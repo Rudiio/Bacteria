{
 "cells": [
  {
   "cell_type": "markdown",
   "metadata": {},
   "source": [
    "# Converting experimental data to simulation data model"
   ]
  },
  {
   "cell_type": "code",
   "execution_count": null,
   "metadata": {},
   "outputs": [],
   "source": [
    "import pandas as pd\n",
    "import numpy as np"
   ]
  },
  {
   "cell_type": "markdown",
   "metadata": {},
   "source": [
    "## Data cleaning"
   ]
  },
  {
   "cell_type": "code",
   "execution_count": null,
   "metadata": {},
   "outputs": [],
   "source": [
    "pd.options.mode.chained_assignment = None\n",
    "\n",
    "def remove_space(x):\n",
    "    return x.replace(\" \",\"\")\n",
    "\n",
    "def cleaning(df:pd.DataFrame):\n",
    "    \"\"\"Return a cleaned dataframe\"\"\"\n",
    "    # Cleaning the columns name : deleting the spaces\n",
    "    df.columns = df.columns.str.replace(\" \",\"\")\n",
    "\n",
    "    # Keeping important features\n",
    "    features = [\"cname\",\"frame\",\"time\",\"cellno\",\"schnitzno\",\"birth\",\"lifespan\",\"length\",\"area\",\"angle\",\"grate\",\"width\",\"x\",\"y\"]\n",
    "    df = df[features]\n",
    "    \n",
    "    # Removing the spaces in cname\n",
    "    df[\"cname\"] = df[\"cname\"].apply(remove_space)\n",
    "\n",
    "    return df\n",
    "\n",
    "def cleaning2(df):\n",
    "    \"\"\"Remove the problematic data\"\"\"\n",
    "    # Removing the rows with cname = 0 0T 0H\n",
    "    df = df.loc[df[\"cname\"]!=\"0\"]\n",
    "    df = df.loc[df[\"cname\"]!=\"0T\" ]\n",
    "    df = df.loc[df[\"cname\"]!=\"0H\"]\n",
    "\n",
    "    # Calculating the max frame and removing the corresponding rows\n",
    "    # max = df[\"frame\"].max()\n",
    "    # df = df.loc[df[\"frame\"]!=max]\n",
    "\n",
    "    return df\n",
    "\n"
   ]
  },
  {
   "cell_type": "markdown",
   "metadata": {},
   "source": [
    "## Data reading"
   ]
  },
  {
   "cell_type": "code",
   "execution_count": null,
   "metadata": {},
   "outputs": [],
   "source": [
    "# df = pd.read_csv(\"./Data_Durvernoy/coli/141003_MG1655_LB1-fld1.txt\",sep=\"\\t\")\n",
    "df = pd.read_csv(\"./Data_Durvernoy/pseudomonas/100806_pao1.txt\",sep=\"\\t\")\n",
    "file_name = \"pseudo1\"\n",
    "\n",
    "scale = 65* 1.e-3 # Scale for E.Coli\n",
    "# all_files = glob.glob(\"./Data_Durvernoy/pseudomonas/*.txt\")\n",
    "# scale = 64.5* 1.e-3 # Scale for Pseudomonas\n",
    "\n",
    "df = cleaning(df)\n",
    "\n",
    "# Applying the scale\n",
    "df[\"x\"] = df[\"x\"]*scale\n",
    "df[\"y\"] = df[\"y\"]*scale\n",
    "df[\"length\"] = df[\"length\"]*scale\n",
    "df[\"width\"] = df[\"width\"]*scale\n",
    "\n",
    "df"
   ]
  },
  {
   "cell_type": "markdown",
   "metadata": {},
   "source": [
    "## File preparation"
   ]
  },
  {
   "cell_type": "code",
   "execution_count": null,
   "metadata": {},
   "outputs": [],
   "source": [
    "# Opening the final file\n",
    "# file = open(\"./Data_Duvernoy_converted/Coli/\"+ file_name + \".txt\",\"a\")\n",
    "file = open(\"./Data_Duvernoy_converted/pseudomonas/\"+ file_name + \".txt\",\"a\")\n",
    "\n",
    "# Writing the columns names\n",
    "file.write(\"N disks\\t\")\n",
    "file.write(\"Disks radius\\t\")\n",
    "file.write(\"time\\t\")\n",
    "file.write(\"Gen\\t\")\n",
    "file.write(\"ks\\t\")\n",
    "file.write(\"kt_bot\\t\")\n",
    "file.write(\"kt_par\\t\")\n",
    "file.write(\"kc\\t\")\n",
    "file.write(\"color\\t\")\n",
    "file.write(\"current length\\t\")\n",
    "file.write(\"div_length\\t\")\n",
    "file.write(\"X\")\n",
    "file.write(\"\\n\")\n"
   ]
  },
  {
   "cell_type": "markdown",
   "metadata": {},
   "source": [
    "## Writing the new data"
   ]
  },
  {
   "cell_type": "code",
   "execution_count": null,
   "metadata": {},
   "outputs": [],
   "source": [
    "\n",
    "for i,row in df.iterrows():\n",
    "    # Writing the number of disks \n",
    "    file.write(f\"{3}\\t\")\n",
    "\n",
    "    # Writing the radius\n",
    "    radius = row[\"width\"]/2\n",
    "    file.write(f\"{radius}\\t\")\n",
    "\n",
    "    # Writing the time\n",
    "    temp = row[\"time\"]\n",
    "    file.write(f\"{temp:.3f}\\t\")\n",
    "\n",
    "    # Writing the name\n",
    "    temp = row[\"cname\"]\n",
    "    file.write(f\"{len(temp)}\\t\")\n",
    "\n",
    "    # Writing the stifnesses\n",
    "    file.write(f\"{0}\\t\")\n",
    "    file.write(f\"{0}\\t\")\n",
    "    file.write(f\"{0}\\t\")\n",
    "    file.write(f\"{0}\\t\")\n",
    "    file.write(f\"{(0,0,0)}\\t\")\n",
    "\n",
    "    # Writing the length\n",
    "    temp = row[\"length\"]\n",
    "    file.write(f\"{temp}\\t\")\n",
    "    file.write(f\"{temp}\\t\")\n",
    "\n",
    "    # writing the disks positions\n",
    "    xc = row[\"x\"]\n",
    "    yc = row[\"y\"]\n",
    "\n",
    "    angle = row[\"angle\"]\n",
    "    file.write(f\"{xc - (temp/2-radius)*np.cos(angle)} \")\n",
    "    file.write(f\"{yc - (temp/2-radius)*np.sin(angle)} \")\n",
    "\n",
    "    file.write(f\"{xc} \")\n",
    "    file.write(f\"{yc} \")\n",
    "\n",
    "    file.write(f\"{xc + (temp/2-radius)*np.cos(angle)} \")\n",
    "    file.write(f\"{yc + (temp/2-radius)*np.sin(angle)} \")\n",
    "    file.write(\"\\n\")\n",
    "\n",
    "file.close()"
   ]
  }
 ],
 "metadata": {
  "kernelspec": {
   "display_name": "Python 3.10.1 64-bit",
   "language": "python",
   "name": "python3"
  },
  "language_info": {
   "codemirror_mode": {
    "name": "ipython",
    "version": 3
   },
   "file_extension": ".py",
   "mimetype": "text/x-python",
   "name": "python",
   "nbconvert_exporter": "python",
   "pygments_lexer": "ipython3",
   "version": "3.10.1"
  },
  "orig_nbformat": 4,
  "vscode": {
   "interpreter": {
    "hash": "ef4145d4611b80ba219b88b5bf7ba9d2176b46b1376c2231cec88e603ae7f587"
   }
  }
 },
 "nbformat": 4,
 "nbformat_minor": 2
}
