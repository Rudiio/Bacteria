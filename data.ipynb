{
 "cells": [
  {
   "cell_type": "markdown",
   "metadata": {},
   "source": [
    "# Data exploitation for bacteria colony simulation\n",
    "\n",
    "Using data from real experimentations to calculate the parameters of our simulations.\n",
    "\n",
    "Bacteria : \n",
    "- Coli\n",
    "- Pseudomonas"
   ]
  },
  {
   "cell_type": "code",
   "execution_count": 684,
   "metadata": {},
   "outputs": [],
   "source": [
    "import pandas as pd\n",
    "import os\n",
    "import glob\n",
    "import numpy as np\n",
    "import matplotlib.pyplot as plt\n",
    "import seaborn as sns"
   ]
  },
  {
   "cell_type": "markdown",
   "metadata": {},
   "source": [
    "## 1. Data Preprocessing"
   ]
  },
  {
   "cell_type": "markdown",
   "metadata": {},
   "source": [
    "### 1. Presentation\n",
    "\n",
    "The dataset is composed of various informations about the evolutions of bacterias (Coli and Pseudomonas) during a simulation. \n",
    "\n",
    "The features that interest us are :\n",
    "- **cname** : the name of a bacteria\n",
    "- **frame** : the frame during wich the bacteria was observed.\n",
    "- **time** : the time of the observation\n",
    "- **cellno** : the number of the cell on the current frame\n",
    "- **schnitzno** : the \"id\" of a bacterium\n",
    "- **birth** : the birth date\n",
    "- **lifespan** : lifetime of a bacterium before division\n",
    "- **area** : area of the bacterium\n",
    "- **lentgh** :\n",
    "- **angle**:\n",
    "- **grate** : growth rate of the bacterium\n",
    "- **width** "
   ]
  },
  {
   "cell_type": "markdown",
   "metadata": {},
   "source": [
    "### 2. Cleaning the data"
   ]
  },
  {
   "cell_type": "markdown",
   "metadata": {},
   "source": [
    "As we need to all the files, we need to create a function to clean every dataframe.\n",
    "\n",
    "- Deleting the useless spaces in the columns names.\n",
    "- Deleting the useless columns\n",
    "- Deleting the inappropriate values : cname = 0, 0T and 0H and last frame"
   ]
  },
  {
   "cell_type": "code",
   "execution_count": 685,
   "metadata": {},
   "outputs": [],
   "source": [
    "pd.options.mode.chained_assignment = None\n",
    "\n",
    "def remove_space(x):\n",
    "    return x.replace(\" \",\"\")\n",
    "\n",
    "def cleaning(df:pd.DataFrame):\n",
    "    \"\"\"Return a cleaned dataframe\"\"\"\n",
    "    # Cleaning the columns name : deleting the spaces\n",
    "    df.columns = df.columns.str.replace(\" \",\"\")\n",
    "\n",
    "    # Keeping important features\n",
    "    features = [\"cname\",\"frame\",\"time\",\"cellno\",\"schnitzno\",\"birth\",\"lifespan\",\"length\",\"area\",\"angle\",\"grate\",\"width\"]\n",
    "    df = df[features]\n",
    "    \n",
    "    # Removing the spaces in cname\n",
    "    df[\"cname\"] = df[\"cname\"].apply(remove_space)\n",
    "    \n",
    "    # Removing the rows with cname = 0 0T 0H\n",
    "    df = df.loc[df[\"cname\"]!=\"0\"]\n",
    "    df = df.loc[df[\"cname\"]!=\"0T\" ]\n",
    "    df = df.loc[df[\"cname\"]!=\"0H\"]\n",
    "\n",
    "    # Calculating the max frame and removing the corresponding rows\n",
    "    max = df[\"frame\"].max()\n",
    "    df = df.loc[df[\"frame\"]!=max]\n",
    "\n",
    "    return df\n"
   ]
  },
  {
   "cell_type": "markdown",
   "metadata": {},
   "source": [
    "### 3. Loading all the data"
   ]
  },
  {
   "cell_type": "code",
   "execution_count": 686,
   "metadata": {},
   "outputs": [],
   "source": [
    "# Uncomment the corresponding line to change of data\n",
    "all_files = glob.glob(\"./Data_Durvernoy/coli/*.txt\")\n",
    "# all_files = glob.glob(\"./Data_Durvernoy/pseudomonas/*.txt\")\n",
    "\n",
    "# Creating the list of dataframes\n",
    "Ldf = []\n",
    "for f in all_files:\n",
    "    Ldf.append(cleaning(pd.read_csv(f,sep=\"\\t\")))\n",
    "\n",
    "# Ldf.append((cleaning(pd.read_csv(f,sep=\"\\t\")) for f in all_files))\n",
    "\n",
    "# DF = pd.concat(Ldf)\n",
    "\n",
    "# Reindexing\n",
    "# df = df.reset_index(drop=\"True\")\n",
    "\n",
    "# df\n",
    "# df =cleaning(df)\n",
    "# df"
   ]
  },
  {
   "cell_type": "markdown",
   "metadata": {},
   "source": [
    "## 4. Calculating the experimental parameters"
   ]
  },
  {
   "cell_type": "code",
   "execution_count": 687,
   "metadata": {},
   "outputs": [],
   "source": [
    "# Lists of parameters\n",
    "\n",
    "Number_t_E = []     # Numbers of bacteria as a function of time\n",
    "Increment_E =[]     # Increment final_length - birth length\n",
    "length_E=[]         # length by time \n",
    "length_birth_E=[]   # birth length\n",
    "length_div_E = []   # length at division\n",
    "growth_rate_E=[]    # growth rate\n",
    "Gen_E=[]            # generation\n",
    "First_div_E=[]      # length at first division\n",
    "Theta_E =[]         # angle\n",
    "lifespan_E=[]       # lifespan"
   ]
  },
  {
   "cell_type": "code",
   "execution_count": 688,
   "metadata": {},
   "outputs": [
    {
     "name": "stdout",
     "output_type": "stream",
     "text": [
      "2049\n"
     ]
    }
   ],
   "source": [
    "for df in Ldf:\n",
    "    for i in range(3,df[\"schnitzno\"].max()+1):\n",
    "        d = df.loc[df[\"schnitzno\"]==i]\n",
    "        d = d.reset_index(drop=\"True\")\n",
    "        nrow = d.shape[0]\n",
    "        if nrow>1:\n",
    "            Increment_E.append(d[\"length\"][0]-d[\"length\"][nrow-1])\n",
    "            length_E.append(list(d[\"length\"]))\n",
    "            length_div_E.append(d[\"length\"][nrow-1])\n",
    "            length_birth_E.append(d[\"length\"][0])\n",
    "            growth_rate_E.append(np.log(d[\"length\"][nrow-1]/d[\"length\"][0])/(d[\"time\"][nrow-1]-d[\"time\"][0]))\n",
    "            Gen_E.append(len(d[\"cname\"][0]))\n",
    "\n",
    "            lifespan_E.append(d[\"lifespan\"][0])\n",
    "            if(len(d[\"cname\"][0])==3):\n",
    "                First_div_E.append(d[\"length\"][0]) \n",
    "\n",
    "g = np.array(growth_rate_E)\n",
    "# plt.hist(g)\n",
    "print(len(growth_rate_E))"
   ]
  },
  {
   "cell_type": "code",
   "execution_count": 692,
   "metadata": {},
   "outputs": [
    {
     "data": {
      "image/png": "[encoded data removed]",
      "text/plain": [
       "<Figure size 360x360 with 1 Axes>"
      ]
     },
     "metadata": {},
     "output_type": "display_data"
    }
   ],
   "source": [
    "sns.set(rc = {'figure.figsize':(15,8)})\n",
    "growth = sns.displot(g,kind=\"kde\")\n"
   ]
  }
 ],
 "metadata": {
  "kernelspec": {
   "display_name": "Python 3.10.1 64-bit",
   "language": "python",
   "name": "python3"
  },
  "language_info": {
   "codemirror_mode": {
    "name": "ipython",
    "version": 3
   },
   "file_extension": ".py",
   "mimetype": "text/x-python",
   "name": "python",
   "nbconvert_exporter": "python",
   "pygments_lexer": "ipython3",
   "version": "3.10.1"
  },
  "orig_nbformat": 4,
  "vscode": {
   "interpreter": {
    "hash": "ef4145d4611b80ba219b88b5bf7ba9d2176b46b1376c2231cec88e603ae7f587"
   }
  }
 },
 "nbformat": 4,
 "nbformat_minor": 2
}
