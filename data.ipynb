{
 "cells": [
  {
   "cell_type": "markdown",
   "metadata": {},
   "source": [
    "# Data exploitation for bacteria colony simulation\n",
    "\n",
    "Using data from real experimentations to calculate the parameters of our simulations.\n",
    "\n",
    "Bacteria : \n",
    "- E.Coli\n",
    "- Pseudomonas"
   ]
  },
  {
   "cell_type": "code",
   "execution_count": null,
   "metadata": {},
   "outputs": [],
   "source": [
    "import pandas as pd\n",
    "import os\n",
    "import glob\n",
    "import numpy as np\n",
    "import matplotlib.pyplot as plt\n",
    "import seaborn as sns\n",
    "from scipy import stats\n",
    "import joblib"
   ]
  },
  {
   "cell_type": "markdown",
   "metadata": {},
   "source": [
    "## 1. Data Preprocessing"
   ]
  },
  {
   "cell_type": "markdown",
   "metadata": {},
   "source": [
    "### 1. Presentation\n",
    "\n",
    "The goal is to calculate the parameters from a dataset for our simulations such as they could fit experimental data.\n",
    "The dataset is composed of various informations about the evolutions of bacterias (E.Coli and Pseudomonas) during a simulation. \n",
    "\n",
    "The files are : \n",
    "- 140930_MG1655_LB1-fld0.txt\n",
    "- 140930_MG1655_LB1-fld1.txt\n",
    "- 140930_MG1655_LB1-fld3.txt\n",
    "- 141001_MG1655_LB1-fld0.txt\n",
    "- 141001_MG1655_LB1-fld2.txt\n",
    "- 141001_MG1655_LB1-fld3.txt\n",
    "- 141003_MG1655_LB1-fld1.txt\n",
    "\n",
    "- 100806_pao1.txt\n",
    "- 101105_pao1_bottom.txt\n",
    "- 101105_pao1_top.txt\n",
    "- 101108_pao1.txt\n",
    "- 101110_pao1.txt\n",
    "- 101112_pao1.txt\n",
    "- 101114_pao1.txt\n",
    "- 101115_pao1.txt\n",
    "- 101116_pao1.txt\n",
    "- 101119_pao1.txt\n",
    "\n",
    "The features that interest us are :\n",
    "- **cname** : the name of a bacteria\n",
    "- **frame** : the frame during wich the bacteria was observed.\n",
    "- **time** : the time of the observation\n",
    "- **cellno** : the number of the cell on the current frame\n",
    "- **schnitzno** : the \"id\" of a bacterium\n",
    "- **birth** : the birth date\n",
    "- **lifespan** : lifetime of a bacterium before division\n",
    "- **area** : area of the bacterium\n",
    "- **lentgh** :\n",
    "- **angle**:\n",
    "- **grate** : growth rate of the bacterium\n",
    "- **width** \n",
    "\n",
    "All the distance values are in pixels and they need to be converted in $\\mu m$ to be exploited.\n",
    "\n",
    "**Scales**\n",
    "- E. Coli : 1 pixel = 65 nm\n",
    "- Pseudomonas : 1 pixel = 64,5 nm "
   ]
  },
  {
   "cell_type": "markdown",
   "metadata": {},
   "source": [
    "### 2. Cleaning the data"
   ]
  },
  {
   "cell_type": "markdown",
   "metadata": {},
   "source": [
    "As we need to clean all the files, we need to create functions to clean every dataframe.\n",
    "\n",
    "- Deleting the useless spaces in the columns names.\n",
    "- Deleting the useless columns\n",
    "- Deleting the inaccurate data"
   ]
  },
  {
   "cell_type": "code",
   "execution_count": 1,
   "metadata": {},
   "outputs": [
    {
     "ename": "NameError",
     "evalue": "name 'pd' is not defined",
     "output_type": "error",
     "traceback": [
      "\u001b[1;31m---------------------------------------------------------------------------\u001b[0m",
      "\u001b[1;31mNameError\u001b[0m                                 Traceback (most recent call last)",
      "\u001b[1;32mc:\\Users\\fidac\\Polytech\\MAIN3\\stage_bactéries\\Bacteria\\data.ipynb Cellule 7\u001b[0m in \u001b[0;36m<module>\u001b[1;34m\u001b[0m\n\u001b[1;32m----> <a href='vscode-notebook-cell:/c%3A/Users/fidac/Polytech/MAIN3/stage_bact%C3%A9ries/Bacteria/data.ipynb#W6sZmlsZQ%3D%3D?line=0'>1</a>\u001b[0m pd\u001b[39m.\u001b[39moptions\u001b[39m.\u001b[39mmode\u001b[39m.\u001b[39mchained_assignment \u001b[39m=\u001b[39m \u001b[39mNone\u001b[39;00m\n\u001b[0;32m      <a href='vscode-notebook-cell:/c%3A/Users/fidac/Polytech/MAIN3/stage_bact%C3%A9ries/Bacteria/data.ipynb#W6sZmlsZQ%3D%3D?line=2'>3</a>\u001b[0m \u001b[39mdef\u001b[39;00m \u001b[39mremove_space\u001b[39m(x):\n\u001b[0;32m      <a href='vscode-notebook-cell:/c%3A/Users/fidac/Polytech/MAIN3/stage_bact%C3%A9ries/Bacteria/data.ipynb#W6sZmlsZQ%3D%3D?line=3'>4</a>\u001b[0m     \u001b[39mreturn\u001b[39;00m x\u001b[39m.\u001b[39mreplace(\u001b[39m\"\u001b[39m\u001b[39m \u001b[39m\u001b[39m\"\u001b[39m,\u001b[39m\"\u001b[39m\u001b[39m\"\u001b[39m)\n",
      "\u001b[1;31mNameError\u001b[0m: name 'pd' is not defined"
     ]
    }
   ],
   "source": [
    "pd.options.mode.chained_assignment = None\n",
    "\n",
    "def remove_space(x):\n",
    "    return x.replace(\" \",\"\")\n",
    "\n",
    "def cleaning(df:pd.DataFrame):\n",
    "    \"\"\"Return a cleaned dataframe\"\"\"\n",
    "    # Cleaning the columns name : deleting the spaces\n",
    "    df.columns = df.columns.str.replace(\" \",\"\")\n",
    "\n",
    "    # Keeping important features\n",
    "    features = [\"cname\",\"frame\",\"time\",\"cellno\",\"schnitzno\",\"birth\",\"lifespan\",\"length\",\"area\",\"angle\",\"grate\",\"width\"]\n",
    "    df = df[features]\n",
    "    \n",
    "    # Removing the spaces in cname\n",
    "    df[\"cname\"] = df[\"cname\"].apply(remove_space)\n",
    "\n",
    "    return df\n",
    "\n",
    "def cleaning2(df):\n",
    "    \"\"\"Remove the innacurate data\"\"\"\n",
    "    # Removing the rows with cname = 0 0T 0H\n",
    "    df = df.loc[df[\"cname\"]!=\"0\"]\n",
    "    df = df.loc[df[\"cname\"]!=\"0T\" ]\n",
    "    df = df.loc[df[\"cname\"]!=\"0H\"]\n",
    "\n",
    "    return df"
   ]
  },
  {
   "cell_type": "markdown",
   "metadata": {},
   "source": [
    "### 3. Loading all the data\n",
    "\n",
    "We load here the files containing the data. Uncomment and comment the right lines to switch between E.coli and Pseudomonas (don't forget the corresponding scale)"
   ]
  },
  {
   "cell_type": "code",
   "execution_count": null,
   "metadata": {},
   "outputs": [],
   "source": [
    "# Uncomment the corresponding line to change of data\n",
    "\n",
    "## For  E.coli\n",
    "all_files = glob.glob(\"./Data_Durvernoy/coli/*.txt\")\n",
    "scale = 65* 1.e-3\n",
    "\n",
    "## For Pseudomonas\n",
    "# all_files = glob.glob(\"./Data_Durvernoy/pseudomonas/*.txt\")\n",
    "# scale = 64.5* 1.e-3 # Scale for Pseudomonas\n",
    "\n",
    "# Creating the list of dataframes\n",
    "Ldf = []\n",
    "for f in all_files:\n",
    "    Ldf.append(cleaning(pd.read_csv(f,sep=\"\\t\")))\n",
    "\n",
    "# Creating the big dataframe\n",
    "DF = pd.concat(Ldf)"
   ]
  },
  {
   "cell_type": "markdown",
   "metadata": {},
   "source": [
    "## 4. Extracting the experimental data"
   ]
  },
  {
   "cell_type": "code",
   "execution_count": null,
   "metadata": {},
   "outputs": [],
   "source": [
    "# Lists of parameters list\n",
    "Number_t_E = []     # Numbers of bacteria as a function of time\n",
    "Increment_E =[]     # Increment final_length - birth length\n",
    "length_E=[]         # length by time \n",
    "length_birth_E=[]   # birth length\n",
    "length_div_E = []   # length at division\n",
    "growth_rate_E=[]    # growth rate\n",
    "Gen_E=[]            # generation\n",
    "First_div_E=[]      # length at first division\n",
    "Theta_E =[]         # angle\n",
    "lifespan_E=[]       # lifespan\n",
    "width_birth_E=[]    # width at birth"
   ]
  },
  {
   "cell_type": "code",
   "execution_count": null,
   "metadata": {},
   "outputs": [],
   "source": [
    "# Calculating the number of bacteria by time\n",
    "Nb = np.zeros((len(Ldf),DF[\"frame\"].max()))\n",
    "\n",
    "for i in range(0,len(Ldf)):\n",
    "    df = Ldf[i]\n",
    "    for j in range(2,df[\"frame\"].max()+1):\n",
    "        d = df.loc[df[\"frame\"]==j]\n",
    "        # d = d.reset_index(drop=\"True\")\n",
    "        # d=d.sort_values(by='time',axis=0)\n",
    "        nrow = d.shape[0]\n",
    "        Nb[i,j-1]=nrow\n"
   ]
  },
  {
   "cell_type": "code",
   "execution_count": null,
   "metadata": {},
   "outputs": [],
   "source": [
    "# Iterating on the files\n",
    "\n",
    "for df in Ldf:\n",
    "    df = cleaning2(df)  # Deleting the inapprorpriate values from the df: cname 0 0T 0H\n",
    "\n",
    "    # Applying the scale\n",
    "    df[\"length\"] = df[\"length\"]*scale\n",
    "    df[\"width\"] = df[\"width\"]*scale\n",
    "\n",
    "    # Iterating on the different bacteria (by their schnitzo number)\n",
    "    for i in range(3,df[\"schnitzno\"].max()+1):\n",
    "        # Selecting the interesting data in terms of time\n",
    "        d = df.loc[df[\"schnitzno\"]==i]\n",
    "        d = d.reset_index(drop=\"True\")\n",
    "        d=d.sort_values(by='time',axis=0)\n",
    "        nrow = d.shape[0]\n",
    "\n",
    "        # Saving the new data\n",
    "        if nrow>1 and d[\"frame\"][nrow-1]!=df[\"frame\"].max():    # Checking that the row is not unique or that the bacterium appears on the last frame\n",
    "            Increment_E.append((d[\"length\"][nrow-1]-d[\"length\"][0]))\n",
    "            length_E.append(list(d[\"length\"]))\n",
    "            length_div_E.append(d[\"length\"][nrow-1])\n",
    "            length_birth_E.append(d[\"length\"][0])\n",
    "            if(0<=np.log(d[\"length\"][nrow-1]/d[\"length\"][0])/(d[\"time\"][nrow-1]-d[\"time\"][0])):\n",
    "                growth_rate_E.append(np.log(d[\"length\"][nrow-1]/d[\"length\"][0])/(d[\"time\"][nrow-1]-d[\"time\"][0]))\n",
    "            Gen_E.append(len(d[\"cname\"][0]))\n",
    "            width_birth_E.append(d[\"width\"][0])\n",
    "            lifespan_E.append(d[\"lifespan\"][0])\n",
    "\n",
    "            if(len(d[\"cname\"][0])==3):\n",
    "                First_div_E.append(d[\"length\"][0]) \n",
    "\n",
    "# Converting the lists into arrays\n",
    "gre = np.array(growth_rate_E)\n",
    "incre = np.array(Increment_E)\n",
    "lde = np.array(length_div_E)\n",
    "lbe  = np.array(length_birth_E)\n",
    "gene = np.array(Gen_E)\n",
    "lpe = np.array(lifespan_E)\n",
    "fde = np.array(First_div_E)\n",
    "we = np.array(width_birth_E)"
   ]
  },
  {
   "cell_type": "markdown",
   "metadata": {},
   "source": [
    "## 5. Calculating the parameters\n",
    "\n",
    "Here we calculate the parameters for our simulations."
   ]
  },
  {
   "cell_type": "code",
   "execution_count": null,
   "metadata": {},
   "outputs": [],
   "source": [
    "dict = {\"growth rate\" : [np.mean(gre)],\n",
    "        \"increment\" : [np.mean(incre)],\n",
    "        \"length at division\" :[np.mean(lde)],\n",
    "        \"length at birth\" : [np.mean(lbe)],\n",
    "        \"lifespan\" : [np.mean(lpe)],\n",
    "        \"length at first division \": [np.mean(fde)],\n",
    "        \"initial width\": [np.mean(we)]}\n",
    "\n",
    "data = pd.DataFrame(dict)\n",
    "# Radius = initial width/2\n",
    "print(data[\"initial width\"][0]/2)\n",
    "data"
   ]
  },
  {
   "cell_type": "markdown",
   "metadata": {},
   "source": [
    "## 6. Distributions\n",
    "\n",
    "The distributions of the different parameters are plotted here. These plots will be used to compare the simulations distributions to the experimental ones."
   ]
  },
  {
   "cell_type": "code",
   "execution_count": null,
   "metadata": {},
   "outputs": [],
   "source": [
    "# Calculating the kernel density of the experimental growth rate\n",
    "data = gre\n",
    "kde = stats.gaussian_kde(data)\n",
    "x = np.linspace(data.min(), data.max(), 100)\n",
    "p = kde(x)\n",
    "\n",
    "plt.figure(figsize=(10,8))\n",
    "plt.plot(x,p)\n",
    "plt.title(\"Distribution of growth rate\")\n",
    "plt.grid()\n",
    "plt.show()\n"
   ]
  },
  {
   "cell_type": "code",
   "execution_count": null,
   "metadata": {},
   "outputs": [],
   "source": [
    "# Kernel density of length at division\n",
    "kde = stats.gaussian_kde(lde)\n",
    "x = np.linspace(lde.min(), lde.max(), 100)\n",
    "p = kde(x)\n",
    "\n",
    "plt.figure(figsize=(10,8))\n",
    "plt.plot(x,p)\n",
    "plt.title(\"distribution of length at division\")\n",
    "plt.grid()\n",
    "plt.show()"
   ]
  },
  {
   "cell_type": "code",
   "execution_count": null,
   "metadata": {},
   "outputs": [],
   "source": [
    "# Kernel density of length at increment\n",
    "kde = stats.gaussian_kde(incre)\n",
    "# joblib.dump(kde,\"./kde/increment.pkl\")\n",
    "np.save(\"./increment\",incre)\n",
    "x = np.linspace(incre.min(), incre.max(), 100)\n",
    "p = kde(x)\n",
    "\n",
    "\n",
    "plt.figure(figsize=(10,8))\n",
    "plt.plot(x,p)\n",
    "plt.title(\"Distribution of the increment\")\n",
    "plt.grid()\n",
    "plt.show()\n"
   ]
  },
  {
   "cell_type": "code",
   "execution_count": null,
   "metadata": {},
   "outputs": [],
   "source": [
    "# Kernel density of the birth length\n",
    "kde = stats.gaussian_kde(lbe)\n",
    "x = np.linspace(lbe.min(), lbe.max(), 100)\n",
    "p = kde(x)\n",
    "\n",
    "plt.figure(figsize=(10,8))\n",
    "plt.plot(x,p)\n",
    "plt.title(\"Distribution of birth length\")\n",
    "plt.grid()\n",
    "plt.show()"
   ]
  },
  {
   "cell_type": "code",
   "execution_count": null,
   "metadata": {},
   "outputs": [],
   "source": [
    "# Kernel density of the generation\n",
    "kde = stats.gaussian_kde(gene)\n",
    "x = np.linspace(gene.min(), gene.max(), 100)\n",
    "p = kde(x)\n",
    "\n",
    "plt.figure(figsize=(10,8))\n",
    "plt.plot(x,p)\n",
    "plt.title(\"Distribution of generation\")\n",
    "plt.grid()\n",
    "plt.show()"
   ]
  },
  {
   "cell_type": "code",
   "execution_count": null,
   "metadata": {},
   "outputs": [],
   "source": [
    "# Kernel density of the lifespan\n",
    "kde = stats.gaussian_kde(lpe)\n",
    "x = np.linspace(lpe.min(), lpe.max(), 100)\n",
    "p = kde(x)\n",
    "\n",
    "plt.figure(figsize=(10,8))\n",
    "plt.plot(x,p)\n",
    "plt.title(\"Distribution of lifespan\")\n",
    "plt.grid()\n",
    "plt.show()"
   ]
  },
  {
   "cell_type": "code",
   "execution_count": null,
   "metadata": {},
   "outputs": [],
   "source": [
    "# Kernel density of the legth at the first division\n",
    "kde = stats.gaussian_kde(fde)\n",
    "x = np.linspace(fde.min(), fde.max(), 100)\n",
    "p = kde(x)\n",
    "\n",
    "plt.figure(figsize=(10,8))\n",
    "plt.plot(x,p)\n",
    "plt.title(\"Distribution of length at first division\")\n",
    "plt.grid()\n",
    "plt.show()"
   ]
  },
  {
   "cell_type": "code",
   "execution_count": null,
   "metadata": {},
   "outputs": [],
   "source": [
    "# Kernel density of the width at birth\n",
    "kde = stats.gaussian_kde(we)\n",
    "x = np.linspace(we.min(), we.max(), 100)\n",
    "p = kde(x)\n",
    "\n",
    "plt.figure(figsize=(10,8))\n",
    "plt.plot(x,p)\n",
    "plt.title(\"Width at birth\")\n",
    "plt.grid()\n",
    "plt.show()\n"
   ]
  }
 ],
 "metadata": {
  "kernelspec": {
   "display_name": "Python 3.10.1 64-bit",
   "language": "python",
   "name": "python3"
  },
  "language_info": {
   "codemirror_mode": {
    "name": "ipython",
    "version": 3
   },
   "file_extension": ".py",
   "mimetype": "text/x-python",
   "name": "python",
   "nbconvert_exporter": "python",
   "pygments_lexer": "ipython3",
   "version": "3.10.1"
  },
  "orig_nbformat": 4,
  "vscode": {
   "interpreter": {
    "hash": "ef4145d4611b80ba219b88b5bf7ba9d2176b46b1376c2231cec88e603ae7f587"
   }
  }
 },
 "nbformat": 4,
 "nbformat_minor": 2
}
