{
 "cells": [
  {
   "cell_type": "code",
   "execution_count": null,
   "metadata": {},
   "outputs": [],
   "source": [
    "import pandas as pd\n",
    "import numpy as np\n",
    "import os\n",
    "import glob\n",
    "import sys\n",
    "\n",
    "# insert at 1, 0 is the script path (or '' in REPL)\n",
    "sys.path.insert(1,r'C:\\Users\\fidac\\Polytech\\MAIN3\\stage_bactéries\\Bacteria')\n",
    "import plot_model as pm"
   ]
  },
  {
   "cell_type": "code",
   "execution_count": null,
   "metadata": {},
   "outputs": [],
   "source": [
    "file = \"simuc17\"\n",
    "\n",
    "def convert(L):\n",
    "    T = L.split(\" \")\n",
    "    T.pop()\n",
    "    return list(np.array(T,dtype=float))\n",
    "\n",
    "# DF = pd.read_csv(file+\".txt\",sep=\"\\t\")\n",
    "\n",
    "# DF[\"X\"]=DF[\"X\"].apply(convert)\n",
    "# DF[\"time\"] = DF[\"time\"].apply(int)\n",
    "\n",
    "\n",
    "def find_4_cells_array(df):\n",
    "    \"\"\" Returns the time corresponding to the appearance of the four cells array\"\"\"\n",
    "    \n",
    "    times = df[\"time\"].drop_duplicates()\n",
    "    n = times.shape[0]\n",
    "\n",
    "    for time in times:\n",
    "        cdf = DF.loc[DF[\"time\"]==time]\n",
    "        cdf = cdf.reset_index()\n",
    "\n",
    "        if(cdf.shape[0]==4):\n",
    "            return time\n",
    "        elif cdf.shape[0]>4:\n",
    "            return -1\n",
    "\n",
    "# time = find_4_cells_array(DF)\n",
    "\n",
    "# # Saving the picture\n",
    "# Pm = pm.Plot(file + \".txt\",time)\n",
    "# Pm.save2(0)\n",
    "\n",
    "\n"
   ]
  },
  {
   "cell_type": "code",
   "execution_count": null,
   "metadata": {},
   "outputs": [],
   "source": [
    "all_files = glob.glob(\"./method7/*.txt\")\n",
    "\n",
    "for f in all_files:\n",
    "    # Loading the file\n",
    "    print(f)\n",
    "    DF = pd.read_csv(f,sep=\"\\t\")\n",
    "    DF[\"X\"]=DF[\"X\"].apply(convert)\n",
    "    DF[\"time\"] = DF[\"time\"].apply(int)\n",
    "\n",
    "    # Calculating the rigth time\n",
    "    time = find_4_cells_array(DF)\n",
    "    print(time)\n",
    "\n",
    "    # Saving the picture\n",
    "    if(time!=-1):\n",
    "        Pm = pm.Plot(f,time)\n",
    "        Pm.save2(0)\n"
   ]
  }
 ],
 "metadata": {
  "kernelspec": {
   "display_name": "Python 3.10.1 64-bit",
   "language": "python",
   "name": "python3"
  },
  "language_info": {
   "codemirror_mode": {
    "name": "ipython",
    "version": 3
   },
   "file_extension": ".py",
   "mimetype": "text/x-python",
   "name": "python",
   "nbconvert_exporter": "python",
   "pygments_lexer": "ipython3",
   "version": "3.10.1"
  },
  "orig_nbformat": 4,
  "vscode": {
   "interpreter": {
    "hash": "ef4145d4611b80ba219b88b5bf7ba9d2176b46b1376c2231cec88e603ae7f587"
   }
  }
 },
 "nbformat": 4,
 "nbformat_minor": 2
}
